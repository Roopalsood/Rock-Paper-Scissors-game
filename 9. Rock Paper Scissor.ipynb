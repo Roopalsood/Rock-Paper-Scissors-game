{
 "cells": [
  {
   "cell_type": "code",
   "execution_count": 1,
   "id": "e19c2032",
   "metadata": {},
   "outputs": [
    {
     "name": "stdout",
     "output_type": "stream",
     "text": [
      "Let's play Rock, Paper and Scissors...\n"
     ]
    }
   ],
   "source": [
    "print(\"Let's play Rock, Paper and Scissors...\")"
   ]
  },
  {
   "cell_type": "code",
   "execution_count": 4,
   "id": "44f7c1dc",
   "metadata": {},
   "outputs": [
    {
     "name": "stdout",
     "output_type": "stream",
     "text": [
      "What do you choose? Type 0 for Rock, 1 for Paper, 2 for Scissors. 4\n"
     ]
    },
    {
     "ename": "SystemExit",
     "evalue": "Invalid Input",
     "output_type": "error",
     "traceback": [
      "An exception has occurred, use %tb to see the full traceback.\n",
      "\u001b[1;31mSystemExit\u001b[0m\u001b[1;31m:\u001b[0m Invalid Input\n"
     ]
    }
   ],
   "source": [
    "import random\n",
    "import sys\n",
    "x = int(input(\"What do you choose? Type 0 for Rock, 1 for Paper, 2 for Scissors. \"))\n",
    "\n",
    "if(x>2):\n",
    "    sys.exit(\"Invalid Input\")\n",
    "\n",
    "y = random.randint(0, 2)\n",
    "\n",
    "\n",
    "\n",
    "game =['Rock', 'Paper', 'Scissors']\n",
    "\n",
    "print(\"You chose: \", game[x])\n",
    "print(\"Computer chose: \", game[y])\n",
    "\n",
    "\n",
    "if(x==0):\n",
    "    if(y==0):\n",
    "        print(\"That's a tie!\")\n",
    "    elif(y==1):\n",
    "        print(\"You lose :(\")\n",
    "    elif(y==2):\n",
    "        print(\"You won! :)\")\n",
    "        \n",
    "elif(x==1):\n",
    "    if(y==0):\n",
    "        print(\"You won! :)\")\n",
    "    elif(y==1):\n",
    "        print(\"That's a tie!\")\n",
    "    elif(y==2):\n",
    "        print(\"You lose :(\")\n",
    "\n",
    "elif(x==2):\n",
    "    if(y==0):\n",
    "        print(\"You lose :(\")\n",
    "    elif(y==1):\n",
    "        print(\"You won! :)\")\n",
    "    elif(y==2):\n",
    "        print(\"That's a tie!\")\n",
    "        \n"
   ]
  },
  {
   "cell_type": "code",
   "execution_count": null,
   "id": "8a69d7da",
   "metadata": {},
   "outputs": [],
   "source": []
  }
 ],
 "metadata": {
  "kernelspec": {
   "display_name": "Python 3 (ipykernel)",
   "language": "python",
   "name": "python3"
  },
  "language_info": {
   "codemirror_mode": {
    "name": "ipython",
    "version": 3
   },
   "file_extension": ".py",
   "mimetype": "text/x-python",
   "name": "python",
   "nbconvert_exporter": "python",
   "pygments_lexer": "ipython3",
   "version": "3.9.12"
  }
 },
 "nbformat": 4,
 "nbformat_minor": 5
}
